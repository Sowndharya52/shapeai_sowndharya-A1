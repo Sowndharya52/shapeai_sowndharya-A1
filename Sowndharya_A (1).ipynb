{
  "nbformat": 4,
  "nbformat_minor": 0,
  "metadata": {
    "colab": {
      "name": "Sowndharya A.ipynb",
      "provenance": []
    },
    "kernelspec": {
      "name": "python3",
      "display_name": "Python 3"
    },
    "language_info": {
      "name": "python"
    }
  },
  "cells": [
    {
      "cell_type": "code",
      "metadata": {
        "id": "KKIgdLdZvBAG"
      },
      "source": [
        "from Keras.datasets import mnist\n",
        " \n",
        "data = mnist.load_data()"
      ],
      "execution_count": null,
      "outputs": []
    },
    {
      "cell_type": "code",
      "metadata": {
        "id": "9ZkDdNh61zW6"
      },
      "source": [
        " ((x_train, y_train), (x_test, y_test))= data"
      ],
      "execution_count": null,
      "outputs": []
    },
    {
      "cell_type": "code",
      "metadata": {
        "id": "bKALSsfD2Gf_"
      },
      "source": [
        " x_train=x_train.reshape((x_train.shape[0], 28*28)).astype('float32') \n",
        "   x_test=x_test.reshape((x_train.shape[0], 2828)).astype('float32')"
      ],
      "execution_count": null,
      "outputs": []
    },
    {
      "cell_type": "code",
      "metadata": {
        "id": "Dpery9pr2efg"
      },
      "source": [
        " x_ train = x_train / 255 \n",
        "   x_ test =x_test / 255"
      ],
      "execution_count": null,
      "outputs": []
    },
    {
      "cell_type": "code",
      "metadata": {
        "id": "qbiMbvd-2wM7"
      },
      "source": [
        " from keras.utils import np_utils\n",
        "   \n",
        "   Print(y_test.shape)\n",
        "   y_train = np_utils.to_categorical(y_train)\n",
        "   y_test =np_utiles.tocategorical(y-test)\n",
        " \n",
        "   num_classes = y_test.shape[1]\n",
        "   Print[y_test.shape)"
      ],
      "execution_count": null,
      "outputs": []
    },
    {
      "cell_type": "code",
      "metadata": {
        "id": "K9RUYs363mfF"
      },
      "source": [
        "from keras.models import sequential\n",
        "from keras.Layers import Dense"
      ],
      "execution_count": null,
      "outputs": []
    },
    {
      "cell_type": "code",
      "metadata": {
        "id": "VvEe13Vw4G36"
      },
      "source": [
        "model = sequential()\n",
        "model.add(Dense(32, input_dim = 28*28,activation='relu')) \n",
        "model.add(Dense(64, activation='relu')) \n",
        "model.add(Dense(10, activation='softmax'))"
      ],
      "execution_count": null,
      "outputs": []
    },
    {
      "cell_type": "code",
      "metadata": {
        "id": "dwFtSZh_4w9w"
      },
      "source": [
        "Model. Compile(loss='categorical-crossentropy',optimizer= 'Adam's, metrics=['accuracy'])"
      ],
      "execution_count": null,
      "outputs": []
    },
    {
      "cell_type": "code",
      "metadata": {
        "id": "bpFCqRP55e9z"
      },
      "source": [
        "model. Summary()\n",
        "model: \"sequential\"\n",
        "Layer (type) output shape.         Param#\n",
        "dense (Dense)       ( None, 32)              25120\n",
        "dense_1 (Dense)    (None, 64)              2112\n",
        "dense_2 (Dense)     (None, 10)              650\n",
        " \n",
        "Total params: 27,882\n",
        "Trainable params: 27,882\n",
        "Non-trainable params: 0"
      ],
      "execution_count": null,
      "outputs": []
    },
    {
      "cell_type": "code",
      "metadata": {
        "id": "vw3s9xrM7I2G"
      },
      "source": [
        "model.fit(x_train, y_train, epochs=10, batch_size=100)\n",
        "Epoch 1/10"
      ],
      "execution_count": null,
      "outputs": []
    },
    {
      "cell_type": "code",
      "metadata": {
        "id": "x6HCXZvT7kR1"
      },
      "source": [
        "Scores = model.evaluate(x"
      ],
      "execution_count": null,
      "outputs": []
    },
    {
      "cell_type": "code",
      "metadata": {
        "id": "pEmLSK4V3_3e"
      },
      "source": [
        ""
      ],
      "execution_count": null,
      "outputs": []
    },
    {
      "cell_type": "code",
      "metadata": {
        "id": "iYwXwTyY2zM5"
      },
      "source": [
        ""
      ],
      "execution_count": null,
      "outputs": []
    },
    {
      "cell_type": "code",
      "metadata": {
        "id": "iIOFViFa2p5s"
      },
      "source": [
        ""
      ],
      "execution_count": null,
      "outputs": []
    }
  ]
}